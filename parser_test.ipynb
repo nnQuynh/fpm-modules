{
 "cells": [
  {
   "cell_type": "code",
   "execution_count": 2,
   "id": "be873ced",
   "metadata": {},
   "outputs": [],
   "source": [
    "import re"
   ]
  },
  {
   "cell_type": "code",
   "execution_count": 1,
   "id": "d5b8da98",
   "metadata": {},
   "outputs": [
    {
     "name": "stdout",
     "output_type": "stream",
     "text": [
      "    a\n",
      "    a    a    a\n"
     ]
    }
   ],
   "source": [
    "leading_space = \"    a\"\n",
    "\n",
    "print(leading_space)\n",
    "print(leading_space*3)"
   ]
  },
  {
   "cell_type": "code",
   "execution_count": 34,
   "id": "682fa950",
   "metadata": {},
   "outputs": [
    {
     "name": "stdout",
     "output_type": "stream",
     "text": [
      "<re.Match object; span=(0, 25), match='module modules_utilities\\n'>\n",
      "None\n"
     ]
    }
   ],
   "source": [
    "line1= \"module modules_utilities\\n\"\n",
    "line2= \"   module procedure :: string_contains_string\"\n",
    "module_pattern=re.compile(r'\\s*(MODULE)\\s+(\\w+)\\n',re.IGNORECASE)\n",
    "print(re.fullmatch(module_pattern, line1))\n",
    "print(re.fullmatch(module_pattern, line2))"
   ]
  },
  {
   "cell_type": "code",
   "execution_count": 41,
   "id": "9c598a48",
   "metadata": {},
   "outputs": [
    {
     "name": "stdout",
     "output_type": "stream",
     "text": [
      "None\n"
     ]
    }
   ],
   "source": [
    "line3 = 'call this%l%generate(this%model, filepath, exclude)'\n",
    "call_pattern=re.compile(r'\\s*(call)\\s+\\S+',re.IGNORECASE)\n",
    "print(re.fullmatch(call_pattern, line3))"
   ]
  },
  {
   "cell_type": "code",
   "execution_count": null,
   "id": "735ed2aa",
   "metadata": {},
   "outputs": [],
   "source": [
    "family_tree = {\n",
    "    \"filename\": \"file1.f\",\n",
    "    \"children\": [\n",
    "        {\n",
    "            \"name\": \"sub1\",\n",
    "            \"type\" : \"subroutine\",\n",
    "            \"call\": [\"sub11\", \"sub21\"]\n",
    "        },\n",
    "        {\n",
    "            \"name\": \"mod1\",\n",
    "            \"type\" : \"module\",\n",
    "            \"use\"  : [\"module11\", \"module12\"],\n",
    "            \"children\": [\n",
    "              {\n",
    "                \"name\": \"sub1\",\n",
    "                \"type\" : \"subroutine\",\n",
    "                \"call\": [\"sub11\", \"sub21\"]\n",
    "              },\n",
    "              {\n",
    "                \"name\": \"sub2\",\n",
    "                \"type\" : \"subroutine\",\n",
    "                \"call\": [\"sub11\", \"sub21\"]\n",
    "              },\n",
    "              {\n",
    "                \"name\": \"funx\",\n",
    "                \"type\" : \"function\",\n",
    "                \"call\": [\"sub11\", \"sub21\"]\n",
    "              }\n",
    "            ]\n",
    "        }\n",
    "    ]\n",
    "}"
   ]
  },
  {
   "cell_type": "code",
   "execution_count": null,
   "id": "15172803",
   "metadata": {},
   "outputs": [],
   "source": [
    "dat = {\n",
    "        \"name\": \"mod1\",\n",
    "        \"type\" : \"module\",\n",
    "        \"children\": [\n",
    "              \"name\": \"mod1\",\n",
    "              \"type\" : \"module\"\n",
    "              \n",
    "            ]\n",
    "        }"
   ]
  }
 ],
 "metadata": {
  "kernelspec": {
   "display_name": "spekpy",
   "language": "python",
   "name": "python3"
  },
  "language_info": {
   "codemirror_mode": {
    "name": "ipython",
    "version": 3
   },
   "file_extension": ".py",
   "mimetype": "text/x-python",
   "name": "python",
   "nbconvert_exporter": "python",
   "pygments_lexer": "ipython3",
   "version": "3.12.3"
  }
 },
 "nbformat": 4,
 "nbformat_minor": 5
}
